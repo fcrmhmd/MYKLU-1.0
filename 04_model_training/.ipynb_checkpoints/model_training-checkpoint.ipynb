{
 "cells": [
  {
   "cell_type": "code",
   "execution_count": 1,
   "id": "norwegian-office",
   "metadata": {},
   "outputs": [],
   "source": [
    "import pickle\n",
    "import pandas as pd\n",
    "import numpy as np\n",
    "from sklearn.feature_extraction.text import TfidfVectorizer\n",
    "from sklearn.neighbors import NearestCentroid # nearest centroid classifier\n",
    "from pprint import pprint\n",
    "from sklearn.metrics import classification_report, accuracy_score"
   ]
  },
  {
   "cell_type": "code",
   "execution_count": 2,
   "id": "heard-dress",
   "metadata": {},
   "outputs": [],
   "source": [
    "data_path = 'C:/Users/ASUS/TA01/03_feature_engineering/03_pickle/03_data.pickle'\n",
    "with open(data_path, 'rb') as data_path:\n",
    "    data = pickle.load(data_path)\n",
    "\n",
    "features_train_path = 'C:/Users/ASUS/TA01/03_feature_engineering/03_pickle/03_features_train.pickle'\n",
    "with open(features_train_path, 'rb') as features_train_path:\n",
    "    features_train = pickle.load(features_train_path)\n",
    "\n",
    "labels_train_path = 'C:/Users/ASUS/TA01/03_feature_engineering/03_pickle/03_labels_train.pickle'\n",
    "with open(labels_train_path, 'rb') as labels_train_path:\n",
    "    labels_train = pickle.load(labels_train_path)\n",
    "\n",
    "features_test_path = 'C:/Users/ASUS/TA01/03_feature_engineering/03_pickle/03_features_test.pickle'\n",
    "with open(features_test_path, 'rb') as features_test_path:\n",
    "    features_test = pickle.load(features_test_path)\n",
    "\n",
    "labels_test_path = 'C:/Users/ASUS/TA01/03_feature_engineering/03_pickle/03_labels_test.pickle'\n",
    "with open(labels_test_path, 'rb') as labels_test_path:\n",
    "    labels_test = pickle.load(labels_test_path)"
   ]
  },
  {
   "cell_type": "code",
   "execution_count": 4,
   "id": "mexican-madison",
   "metadata": {},
   "outputs": [],
   "source": [
    "ncc = NearestCentroid()\n",
    "ncc.fit(features_train, labels_train) # memasukan inputan hasil dari tfidf untuk training\n",
    "ncc_predict = ncc.predict(features_test) # memasukan inputan untuk testing"
   ]
  },
  {
   "cell_type": "code",
   "execution_count": 5,
   "id": "confident-building",
   "metadata": {},
   "outputs": [
    {
     "name": "stdout",
     "output_type": "stream",
     "text": [
      "The training accuracy is: \n",
      "0.8811739441660702\n"
     ]
    }
   ],
   "source": [
    "# Training accuracy\n",
    "print(\"The training accuracy is: \")\n",
    "print(accuracy_score(labels_train, ncc.predict(features_train)))"
   ]
  },
  {
   "cell_type": "code",
   "execution_count": 6,
   "id": "monthly-fishing",
   "metadata": {},
   "outputs": [
    {
     "name": "stdout",
     "output_type": "stream",
     "text": [
      "The test accuracy is: \n",
      "0.8525641025641025\n"
     ]
    }
   ],
   "source": [
    "# Test accuracy\n",
    "print(\"The test accuracy is: \")\n",
    "print(accuracy_score(labels_test, ncc_predict))"
   ]
  },
  {
   "cell_type": "code",
   "execution_count": 7,
   "id": "compatible-stopping",
   "metadata": {
    "scrolled": true
   },
   "outputs": [
    {
     "name": "stdout",
     "output_type": "stream",
     "text": [
      "Classification report\n",
      "              precision    recall  f1-score   support\n",
      "\n",
      "           0       0.73      1.00      0.85        11\n",
      "           1       0.60      0.82      0.69        11\n",
      "           2       1.00      1.00      1.00        11\n",
      "           3       1.00      0.91      0.95        11\n",
      "           4       1.00      0.71      0.83         7\n",
      "           5       1.00      0.67      0.80        12\n",
      "           6       1.00      1.00      1.00         4\n",
      "           7       0.62      0.71      0.67         7\n",
      "           8       1.00      0.88      0.93         8\n",
      "           9       0.90      0.90      0.90        21\n",
      "          10       1.00      1.00      1.00        10\n",
      "          11       0.85      0.92      0.88        12\n",
      "          12       0.79      0.74      0.77        31\n",
      "\n",
      "    accuracy                           0.85       156\n",
      "   macro avg       0.88      0.87      0.87       156\n",
      "weighted avg       0.87      0.85      0.85       156\n",
      "\n"
     ]
    }
   ],
   "source": [
    "# Classification report\n",
    "print(\"Classification report\")\n",
    "print(classification_report(labels_test, ncc_predict))"
   ]
  },
  {
   "cell_type": "code",
   "execution_count": 8,
   "id": "simple-providence",
   "metadata": {},
   "outputs": [
    {
     "data": {
      "text/html": [
       "<div>\n",
       "<style scoped>\n",
       "    .dataframe tbody tr th:only-of-type {\n",
       "        vertical-align: middle;\n",
       "    }\n",
       "\n",
       "    .dataframe tbody tr th {\n",
       "        vertical-align: top;\n",
       "    }\n",
       "\n",
       "    .dataframe thead th {\n",
       "        text-align: right;\n",
       "    }\n",
       "</style>\n",
       "<table border=\"1\" class=\"dataframe\">\n",
       "  <thead>\n",
       "    <tr style=\"text-align: right;\">\n",
       "      <th></th>\n",
       "      <th>Model</th>\n",
       "      <th>Training Set Accuracy</th>\n",
       "      <th>Test Set Accuracy</th>\n",
       "    </tr>\n",
       "  </thead>\n",
       "  <tbody>\n",
       "    <tr>\n",
       "      <th>0</th>\n",
       "      <td>Nearest Centroid Classifier</td>\n",
       "      <td>0.881174</td>\n",
       "      <td>0.852564</td>\n",
       "    </tr>\n",
       "  </tbody>\n",
       "</table>\n",
       "</div>"
      ],
      "text/plain": [
       "                         Model  Training Set Accuracy  Test Set Accuracy\n",
       "0  Nearest Centroid Classifier               0.881174           0.852564"
      ]
     },
     "execution_count": 8,
     "metadata": {},
     "output_type": "execute_result"
    }
   ],
   "source": [
    "q = {'Model': 'Nearest Centroid Classifier',\n",
    "     'Training Set Accuracy': accuracy_score(labels_train, ncc.predict(features_train)),\n",
    "     'Test Set Accuracy': accuracy_score(labels_test, ncc_predict)}\n",
    "\n",
    "model_accuracy = pd.DataFrame(q, index=[0])\n",
    "model_accuracy"
   ]
  },
  {
   "cell_type": "code",
   "execution_count": 9,
   "id": "patient-anxiety",
   "metadata": {},
   "outputs": [],
   "source": [
    "with open('04_pickle/04_model_ncc.pickle', 'wb') as output:\n",
    "    pickle.dump(ncc, output)\n",
    "\n",
    "with open('04_pickle/04_model_ncc_accuracy.pickle', 'wb') as output:\n",
    "    pickle.dump(model_accuracy, output)"
   ]
  }
 ],
 "metadata": {
  "kernelspec": {
   "display_name": "Python 3",
   "language": "python",
   "name": "python3"
  },
  "language_info": {
   "codemirror_mode": {
    "name": "ipython",
    "version": 3
   },
   "file_extension": ".py",
   "mimetype": "text/x-python",
   "name": "python",
   "nbconvert_exporter": "python",
   "pygments_lexer": "ipython3",
   "version": "3.8.8"
  }
 },
 "nbformat": 4,
 "nbformat_minor": 5
}
