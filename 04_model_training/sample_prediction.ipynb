{
 "cells": [
  {
   "cell_type": "code",
   "execution_count": 1,
   "id": "automotive-parks",
   "metadata": {},
   "outputs": [],
   "source": [
    "import pickle\n",
    "import pandas as pd\n",
    "import re\n",
    "import string\n",
    "import unicodedata\n",
    "import nltk\n",
    "from emo_unicode import UNICODE_EMO, EMOTICONS\n",
    "from nltk.tokenize import sent_tokenize, word_tokenize\n",
    "from nltk.corpus import stopwords\n",
    "from Sastrawi.Stemmer.StemmerFactory import StemmerFactory"
   ]
  },
  {
   "cell_type": "code",
   "execution_count": 2,
   "id": "burning-feeding",
   "metadata": {},
   "outputs": [],
   "source": [
    "# tf-idf object from 03_feature_engineering\n",
    "tfidf_path = 'C:/Users/ASUS/TA01/03_feature_engineering/03_pickle/03_tfidf.pickle'\n",
    "with open(tfidf_path, 'rb') as tfidf_path:\n",
    "    tfidf = pickle.load(tfidf_path)\n",
    "\n",
    "# trained model (nearest centroid classifier) from 04_model_training\n",
    "model_path = 'C:/Users/ASUS/TA01/04_model_training/04_pickle/04_model_ncc.pickle'\n",
    "with open(model_path, 'rb') as model_path:\n",
    "    ncc = pickle.load(model_path)"
   ]
  },
  {
   "cell_type": "code",
   "execution_count": 3,
   "id": "introductory-shock",
   "metadata": {},
   "outputs": [],
   "source": [
    "category_codes = {\n",
    "    'AKUNTANSI': 0,\n",
    "    'BAA': 1,\n",
    "    'BAGIAN ASRAMA': 2,\n",
    "    'CAE': 3,\n",
    "    'CELOE': 4,\n",
    "    'LAA': 5,\n",
    "    'LABORAN': 6,\n",
    "    'LOGISTIK DAN ASET': 7,\n",
    "    'OPEN LIBRARY': 8,\n",
    "    'PENGELOLAAN KEGIATAN DAN KESEJAHTERAAN MAHASISWA': 9,\n",
    "    'PPDU': 10,\n",
    "    'PUSAT BAHASA': 11,\n",
    "    'RISET DAN LAYANAN TEKNOLOGI INFORMASI': 12\n",
    "}"
   ]
  },
  {
   "cell_type": "code",
   "execution_count": 7,
   "id": "arctic-favor",
   "metadata": {},
   "outputs": [],
   "source": [
    "def text_preprocessing(text):\n",
    "    text = text.strip().lower()\n",
    "    text = re.sub(r'https?://\\S+|www\\.\\S+', '', text) # remove url\n",
    "    text = re.sub('\\S*@\\S*\\s?', '', text) # remove email\n",
    "    text = re.sub('\\[[^]]*\\]', '', text) # remove beetwen square brackets []\n",
    "    text = re.sub('[-+]?[0-9]+', '', text) # remove number\n",
    "    emoticon_pattern = re.compile(u'(' + u'|'.join(k for k in EMOTICONS) + u')')\n",
    "    emoji_pattern = re.compile(\"[\"\n",
    "                               u\"\\U0001F600-\\U0001F64F\" # emoticons\n",
    "                               u\"\\U0001F300-\\U0001F5FF\" # symbols & pictographs\n",
    "                               u\"\\U0001F680-\\U0001F6FF\" # transport & map symbols\n",
    "                               u\"\\U0001F1E0-\\U0001F1FF\" # flags (iOS)\n",
    "                               u\"\\U00002500-\\U00002BEF\" # chinese char\n",
    "                               \"]+\", flags=re.UNICODE)\n",
    "    text = emoji_pattern.sub(r'', text) # remove emoji\n",
    "    text = emoticon_pattern.sub(r'', text) # remove emoticon\n",
    "    text = re.sub(r'[^\\w\\s]', '', text) # remove punctuation\n",
    "    normal_word_path = pd.read_csv('C:/Users/ASUS/TA01/00_data/key_norm.csv')\n",
    "    text = ' '.join([normal_word_path[normal_word_path['singkat'] == word]['hasil'].values[0] \n",
    "    if (normal_word_path['singkat'] == word).any() else word for word in text.split()])\n",
    "\n",
    "    factory = StemmerFactory() #stemming\n",
    "    stemmer = factory.create_stemmer()\n",
    "    text = stemmer.stem(text)\n",
    "\n",
    "    words = nltk.word_tokenize(text) # tokenize\n",
    "\n",
    "    stopword = stopwords.words('indonesian') #remove stopword\n",
    "    more_stopword = ['assalamualaikum', 'wr', 'wb', 'pak', 'bu', 'selamat',\n",
    "                     'siang', 'pagi', 'sore', 'malam', 'saya', 'terimakasih',\n",
    "                     'terima', 'kasih', 'kepada', 'bpk', 'ibu', 'mohon', 'tolong',\n",
    "                     'maaf', 'dear', 'wassalamualaikum', 'regards', 'nbsp', 'amp', 'lg',\n",
    "                     'lgi', 'kak', 'bapakibu', 'bapak', 'admin', 'pakbu','bupak','wrwb','ya','min','nim','jurus'] # add more stopword to default corpus\n",
    "    stop_factory = stopword + more_stopword\n",
    "    stop_factory.remove('tak')\n",
    "    stop_factory.remove('akhir')     \n",
    "    clean_words = []\n",
    "    for word in words:\n",
    "        if word not in stop_factory:\n",
    "            clean_words.append(word)\n",
    "    words = clean_words\n",
    "    \n",
    "    words = ' '.join(words) # join\n",
    "    return words\n",
    "\n",
    "def create_features(text):\n",
    "    df = pd.DataFrame(columns=['text'])\n",
    "    df.loc[0] = text\n",
    "    df['text'] = df['text'].apply(text_preprocessing)\n",
    "\n",
    "    features = tfidf.transform(df['text']).toarray()\n",
    "    return features\n",
    "\n",
    "def get_category_name(category_id):\n",
    "    for category, id_ in category_codes.items():    \n",
    "        if id_ == category_id:\n",
    "            return category\n",
    "\n",
    "def predict_from_text(text):\n",
    "    # Predict using the input model\n",
    "    ncc_prediction = ncc.predict(create_features(text))[0]\n",
    "    \n",
    "    # Return result\n",
    "    ncc_category = get_category_name(ncc_prediction)\n",
    "    \n",
    "    print(\"Unit bagian yang dituju adalah %s.\" %(ncc_category))"
   ]
  },
  {
   "cell_type": "code",
   "execution_count": 12,
   "id": "classical-power",
   "metadata": {},
   "outputs": [],
   "source": [
    "text = 'apa saja syarat kelulusan sidang FTE'"
   ]
  },
  {
   "cell_type": "code",
   "execution_count": 13,
   "id": "studied-senior",
   "metadata": {},
   "outputs": [
    {
     "name": "stdout",
     "output_type": "stream",
     "text": [
      "Unit bagian yang dituju adalah LAA.\n"
     ]
    }
   ],
   "source": [
    "predict_from_text(text)"
   ]
  }
 ],
 "metadata": {
  "kernelspec": {
   "display_name": "Python 3",
   "language": "python",
   "name": "python3"
  },
  "language_info": {
   "codemirror_mode": {
    "name": "ipython",
    "version": 3
   },
   "file_extension": ".py",
   "mimetype": "text/x-python",
   "name": "python",
   "nbconvert_exporter": "python",
   "pygments_lexer": "ipython3",
   "version": "3.8.8"
  }
 },
 "nbformat": 4,
 "nbformat_minor": 5
}
